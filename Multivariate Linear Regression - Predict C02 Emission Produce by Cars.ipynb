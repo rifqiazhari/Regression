{
 "cells": [
  {
   "cell_type": "markdown",
   "id": "a251dc05",
   "metadata": {},
   "source": [
    "## Table of Contents\n",
    "\n",
    "- [1. Introduction and Data Preprocessing](#1)\n",
    "    - [1.1 Problem Statement](#1.1)\n",
    "    - [1.2 Packages](#1.2)\n",
    "    - [1.3 Read or Import](#1.3)\n",
    "    - [1.4 Data Summary](#1.4)\n",
    "    - [1.5 Data Preparation](#1.5)\n",
    "- [2. Exploratory Data Analysis](#2)\n",
    "    - [2.1 Target Variable](#2.1)\n",
    "    - [2.2 Features Correlation with Target](#2.2)\n",
    "    - [2.3 Feature Variable](#2.3)\n",
    "        - [2.3.1 Alcohol](#2.3.1)\n",
    "        - [2.3.2 Volatile Acidity](#2.3.2)\n",
    "        - [2.3.3 Residual Sugar](#2.3.3)\n",
    "    - [2.4 Multicollinearity](#2.4)\n",
    "- [3. Feature Engineering](#3)\n",
    "    - [3.1 Missing Values](#3.1)\n",
    "- [4. Model](#4)\n",
    "    - [4.1 Logistic Regression](#4.1)\n",
    "    - [4.2 Random Forest](#4.2)\n",
    "- [5. Conclusion](#5)"
   ]
  },
  {
   "cell_type": "markdown",
   "id": "c3e7cecf",
   "metadata": {},
   "source": [
    "# ON EDITING"
   ]
  },
  {
   "cell_type": "markdown",
   "id": "b6d2354c",
   "metadata": {},
   "source": [
    "<a name='1'></a>\n",
    "# 1. Introduction and Data Preprocessing"
   ]
  },
  {
   "cell_type": "markdown",
   "id": "ad275d6d",
   "metadata": {},
   "source": [
    "<a name='1.1'></a>\n",
    "## 1.1 Problem Statement\n",
    "\n",
    "We want to predict the C02 Emission produced by cars. We have many variables from the car age, the brand, the engine size, etc. In modelling we want to try to practice with simple linear regression and multiple linear regression"
   ]
  },
  {
   "cell_type": "markdown",
   "id": "58324cbb",
   "metadata": {},
   "source": [
    "<a name='1.2'></a>\n",
    "## 1.2 Packages"
   ]
  },
  {
   "cell_type": "code",
   "execution_count": 2,
   "id": "2ebf1366",
   "metadata": {},
   "outputs": [],
   "source": [
    "import matplotlib.pyplot as plt\n",
    "import pandas as pd\n",
    "import pylab as pl\n",
    "import numpy as np\n",
    "%matplotlib inline"
   ]
  },
  {
   "cell_type": "markdown",
   "id": "c1720f2e",
   "metadata": {},
   "source": [
    "<a name='1.3'></a>\n",
    "## 1.3 Read or Import"
   ]
  },
  {
   "cell_type": "code",
   "execution_count": 3,
   "id": "883ab89f",
   "metadata": {},
   "outputs": [],
   "source": [
    "df = pd.read_csv(\"FuelConsumption.csv\")"
   ]
  },
  {
   "cell_type": "markdown",
   "id": "78b8d044",
   "metadata": {},
   "source": [
    "<a name='1.4'></a>\n",
    "## 1.4 Data Summary"
   ]
  },
  {
   "cell_type": "code",
   "execution_count": 85,
   "id": "009bde74",
   "metadata": {},
   "outputs": [
    {
     "data": {
      "text/html": [
       "<div>\n",
       "<style scoped>\n",
       "    .dataframe tbody tr th:only-of-type {\n",
       "        vertical-align: middle;\n",
       "    }\n",
       "\n",
       "    .dataframe tbody tr th {\n",
       "        vertical-align: top;\n",
       "    }\n",
       "\n",
       "    .dataframe thead th {\n",
       "        text-align: right;\n",
       "    }\n",
       "</style>\n",
       "<table border=\"1\" class=\"dataframe\">\n",
       "  <thead>\n",
       "    <tr style=\"text-align: right;\">\n",
       "      <th></th>\n",
       "      <th>MODELYEAR</th>\n",
       "      <th>MAKE</th>\n",
       "      <th>MODEL</th>\n",
       "      <th>VEHICLECLASS</th>\n",
       "      <th>ENGINESIZE</th>\n",
       "      <th>CYLINDERS</th>\n",
       "      <th>TRANSMISSION</th>\n",
       "      <th>FUELTYPE</th>\n",
       "      <th>FUELCONSUMPTION_CITY</th>\n",
       "      <th>FUELCONSUMPTION_HWY</th>\n",
       "      <th>FUELCONSUMPTION_COMB</th>\n",
       "      <th>FUELCONSUMPTION_COMB_MPG</th>\n",
       "      <th>CO2EMISSIONS</th>\n",
       "    </tr>\n",
       "  </thead>\n",
       "  <tbody>\n",
       "    <tr>\n",
       "      <th>0</th>\n",
       "      <td>2014</td>\n",
       "      <td>ACURA</td>\n",
       "      <td>ILX</td>\n",
       "      <td>COMPACT</td>\n",
       "      <td>2.0</td>\n",
       "      <td>4</td>\n",
       "      <td>AS5</td>\n",
       "      <td>Z</td>\n",
       "      <td>9.9</td>\n",
       "      <td>6.7</td>\n",
       "      <td>8.5</td>\n",
       "      <td>33</td>\n",
       "      <td>196</td>\n",
       "    </tr>\n",
       "    <tr>\n",
       "      <th>1</th>\n",
       "      <td>2014</td>\n",
       "      <td>ACURA</td>\n",
       "      <td>ILX</td>\n",
       "      <td>COMPACT</td>\n",
       "      <td>2.4</td>\n",
       "      <td>4</td>\n",
       "      <td>M6</td>\n",
       "      <td>Z</td>\n",
       "      <td>11.2</td>\n",
       "      <td>7.7</td>\n",
       "      <td>9.6</td>\n",
       "      <td>29</td>\n",
       "      <td>221</td>\n",
       "    </tr>\n",
       "    <tr>\n",
       "      <th>2</th>\n",
       "      <td>2014</td>\n",
       "      <td>ACURA</td>\n",
       "      <td>ILX HYBRID</td>\n",
       "      <td>COMPACT</td>\n",
       "      <td>1.5</td>\n",
       "      <td>4</td>\n",
       "      <td>AV7</td>\n",
       "      <td>Z</td>\n",
       "      <td>6.0</td>\n",
       "      <td>5.8</td>\n",
       "      <td>5.9</td>\n",
       "      <td>48</td>\n",
       "      <td>136</td>\n",
       "    </tr>\n",
       "    <tr>\n",
       "      <th>3</th>\n",
       "      <td>2014</td>\n",
       "      <td>ACURA</td>\n",
       "      <td>MDX 4WD</td>\n",
       "      <td>SUV - SMALL</td>\n",
       "      <td>3.5</td>\n",
       "      <td>6</td>\n",
       "      <td>AS6</td>\n",
       "      <td>Z</td>\n",
       "      <td>12.7</td>\n",
       "      <td>9.1</td>\n",
       "      <td>11.1</td>\n",
       "      <td>25</td>\n",
       "      <td>255</td>\n",
       "    </tr>\n",
       "    <tr>\n",
       "      <th>4</th>\n",
       "      <td>2014</td>\n",
       "      <td>ACURA</td>\n",
       "      <td>RDX AWD</td>\n",
       "      <td>SUV - SMALL</td>\n",
       "      <td>3.5</td>\n",
       "      <td>6</td>\n",
       "      <td>AS6</td>\n",
       "      <td>Z</td>\n",
       "      <td>12.1</td>\n",
       "      <td>8.7</td>\n",
       "      <td>10.6</td>\n",
       "      <td>27</td>\n",
       "      <td>244</td>\n",
       "    </tr>\n",
       "  </tbody>\n",
       "</table>\n",
       "</div>"
      ],
      "text/plain": [
       "   MODELYEAR   MAKE       MODEL VEHICLECLASS  ENGINESIZE  CYLINDERS  \\\n",
       "0       2014  ACURA         ILX      COMPACT         2.0          4   \n",
       "1       2014  ACURA         ILX      COMPACT         2.4          4   \n",
       "2       2014  ACURA  ILX HYBRID      COMPACT         1.5          4   \n",
       "3       2014  ACURA     MDX 4WD  SUV - SMALL         3.5          6   \n",
       "4       2014  ACURA     RDX AWD  SUV - SMALL         3.5          6   \n",
       "\n",
       "  TRANSMISSION FUELTYPE  FUELCONSUMPTION_CITY  FUELCONSUMPTION_HWY  \\\n",
       "0          AS5        Z                   9.9                  6.7   \n",
       "1           M6        Z                  11.2                  7.7   \n",
       "2          AV7        Z                   6.0                  5.8   \n",
       "3          AS6        Z                  12.7                  9.1   \n",
       "4          AS6        Z                  12.1                  8.7   \n",
       "\n",
       "   FUELCONSUMPTION_COMB  FUELCONSUMPTION_COMB_MPG  CO2EMISSIONS  \n",
       "0                   8.5                        33           196  \n",
       "1                   9.6                        29           221  \n",
       "2                   5.9                        48           136  \n",
       "3                  11.1                        25           255  \n",
       "4                  10.6                        27           244  "
      ]
     },
     "execution_count": 85,
     "metadata": {},
     "output_type": "execute_result"
    }
   ],
   "source": [
    "# take a look at the dataset\n",
    "df.head()"
   ]
  },
  {
   "cell_type": "code",
   "execution_count": 5,
   "id": "1f2329ca",
   "metadata": {},
   "outputs": [
    {
     "name": "stdout",
     "output_type": "stream",
     "text": [
      "<class 'pandas.core.frame.DataFrame'>\n",
      "RangeIndex: 1067 entries, 0 to 1066\n",
      "Data columns (total 13 columns):\n",
      " #   Column                    Non-Null Count  Dtype  \n",
      "---  ------                    --------------  -----  \n",
      " 0   MODELYEAR                 1067 non-null   int64  \n",
      " 1   MAKE                      1067 non-null   object \n",
      " 2   MODEL                     1067 non-null   object \n",
      " 3   VEHICLECLASS              1067 non-null   object \n",
      " 4   ENGINESIZE                1067 non-null   float64\n",
      " 5   CYLINDERS                 1067 non-null   int64  \n",
      " 6   TRANSMISSION              1067 non-null   object \n",
      " 7   FUELTYPE                  1067 non-null   object \n",
      " 8   FUELCONSUMPTION_CITY      1067 non-null   float64\n",
      " 9   FUELCONSUMPTION_HWY       1067 non-null   float64\n",
      " 10  FUELCONSUMPTION_COMB      1067 non-null   float64\n",
      " 11  FUELCONSUMPTION_COMB_MPG  1067 non-null   int64  \n",
      " 12  CO2EMISSIONS              1067 non-null   int64  \n",
      "dtypes: float64(4), int64(4), object(5)\n",
      "memory usage: 108.5+ KB\n"
     ]
    }
   ],
   "source": [
    "df.info()"
   ]
  },
  {
   "cell_type": "code",
   "execution_count": 6,
   "id": "b52a92d0",
   "metadata": {},
   "outputs": [
    {
     "name": "stdout",
     "output_type": "stream",
     "text": [
      "There are 8 numerical features:\n",
      " ['MODELYEAR', 'ENGINESIZE', 'CYLINDERS', 'FUELCONSUMPTION_CITY', 'FUELCONSUMPTION_HWY', 'FUELCONSUMPTION_COMB', 'FUELCONSUMPTION_COMB_MPG', 'CO2EMISSIONS']\n"
     ]
    }
   ],
   "source": [
    "numCols = list(df.select_dtypes(exclude='object').columns)\n",
    "print(f\"There are {len(numCols)} numerical features:\\n\", numCols)"
   ]
  },
  {
   "cell_type": "code",
   "execution_count": 7,
   "id": "3479c61c",
   "metadata": {},
   "outputs": [
    {
     "name": "stdout",
     "output_type": "stream",
     "text": [
      "There are 5 categorical features:\n",
      " ['MAKE', 'MODEL', 'VEHICLECLASS', 'TRANSMISSION', 'FUELTYPE']\n"
     ]
    }
   ],
   "source": [
    "catCols = list(df.select_dtypes(include='object').columns)\n",
    "print(f\"There are {len(catCols)} categorical features:\\n\", catCols)"
   ]
  },
  {
   "cell_type": "code",
   "execution_count": null,
   "id": "32509b26",
   "metadata": {},
   "outputs": [],
   "source": []
  },
  {
   "cell_type": "markdown",
   "id": "4d844ae3",
   "metadata": {},
   "source": [
    "<a name='1.5'></a>\n",
    "## 1.5 Data Preparation"
   ]
  },
  {
   "cell_type": "code",
   "execution_count": 99,
   "id": "cdf6fd94",
   "metadata": {},
   "outputs": [],
   "source": [
    "#80/20 split\n",
    "msk = np.random.rand(len(df)) < 0.8\n",
    "train = df[msk]\n",
    "test = df[~msk]\n",
    "\n",
    "#FOR ENGINESIZE VS CO2EMISSIONS\n",
    "train_x1 = np.asanyarray(train[['ENGINESIZE']])\n",
    "train_y1 = np.asanyarray(train[['CO2EMISSIONS']])\n",
    "test_x1 = np.asanyarray(test[['ENGINESIZE']])\n",
    "test_y1 = np.asanyarray(test[['CO2EMISSIONS']])\n",
    "\n",
    "#FOR FUELCONSUMPTION_COMB VS CO2EMISSIONS\n",
    "train_x2 = np.asanyarray(train[['FUELCONSUMPTION_COMB']])\n",
    "train_y2 = np.asanyarray(train[['CO2EMISSIONS']])\n",
    "test_x2 = np.asanyarray(test[['FUELCONSUMPTION_COMB']])\n",
    "test_y2 = np.asanyarray(test[['CO2EMISSIONS']])"
   ]
  },
  {
   "cell_type": "code",
   "execution_count": 100,
   "id": "60cfe510",
   "metadata": {},
   "outputs": [
    {
     "name": "stdout",
     "output_type": "stream",
     "text": [
      "train_x1: (851, 1) (80.0%)\n",
      "train_y1: (851, 1) (80.0%)\n",
      "test_x1: (216, 1) (20.0%)\n",
      "test_y1: (216, 1) (20.0%)\n",
      "\n",
      "train_x2: (851, 1) (80.0%)\n",
      "train_y2: (851, 1) (80.0%)\n",
      "test_x2: (216, 1) (20.0%)\n",
      "test_y2: (216, 1) (20.0%)\n"
     ]
    }
   ],
   "source": [
    "#80/20 split\n",
    "print(f'train_x1: {train_x1.shape} ({round(len(train_x1)/len(df), 1) * 100}%)')\n",
    "print(f'train_y1: {train_y1.shape} ({round(len(train_y1)/len(df), 1) * 100}%)')\n",
    "print(f'test_x1: {test_x1.shape} ({round(len(test_x1)/len(df), 1) * 100}%)')\n",
    "print(f'test_y1: {test_y1.shape} ({round(len(test_y1)/len(df), 1) * 100}%)')\n",
    "print('')\n",
    "\n",
    "#80/20 split\n",
    "print(f'train_x2: {train_x2.shape} ({round(len(train_x2)/len(df), 1) * 100}%)')\n",
    "print(f'train_y2: {train_y2.shape} ({round(len(train_y2)/len(df), 1) * 100}%)')\n",
    "print(f'test_x2: {test_x2.shape} ({round(len(test_x2)/len(df), 1) * 100}%)')\n",
    "print(f'test_y2: {test_y2.shape} ({round(len(test_y2)/len(df), 1) * 100}%)')"
   ]
  },
  {
   "cell_type": "markdown",
   "id": "ed6672fb",
   "metadata": {},
   "source": [
    "<a name='2'></a>\n",
    "# 2. Exploratory Data Analysis"
   ]
  },
  {
   "cell_type": "markdown",
   "id": "ba55cfea",
   "metadata": {},
   "source": [
    "<a name='2.1'></a>\n",
    "## 2.1 Target Variable"
   ]
  },
  {
   "cell_type": "code",
   "execution_count": 101,
   "id": "375c6701",
   "metadata": {},
   "outputs": [
    {
     "name": "stderr",
     "output_type": "stream",
     "text": [
      "C:\\Users\\ASUS\\anaconda3\\lib\\site-packages\\seaborn\\distributions.py:2619: FutureWarning: `distplot` is a deprecated function and will be removed in a future version. Please adapt your code to use either `displot` (a figure-level function with similar flexibility) or `histplot` (an axes-level function for histograms).\n",
      "  warnings.warn(msg, FutureWarning)\n"
     ]
    },
    {
     "data": {
      "image/png": "[encoded data removed]",
      "text/plain": [
       "<Figure size 576x432 with 1 Axes>"
      ]
     },
     "metadata": {
      "needs_background": "light"
     },
     "output_type": "display_data"
    }
   ],
   "source": [
    "plt.figure(figsize=(8,6))\n",
    "sns.distplot(df[['CO2EMISSIONS']])\n",
    "title = plt.title(\"CO2 Emissions Distribution\")"
   ]
  },
  {
   "cell_type": "markdown",
   "id": "ae8bf5a1",
   "metadata": {},
   "source": [
    "## 2.2 Features Correlation with Target"
   ]
  },
  {
   "cell_type": "code",
   "execution_count": 102,
   "id": "e4e6cc41",
   "metadata": {},
   "outputs": [
    {
     "data": {
      "text/plain": [
       "CO2EMISSIONS                1.000000\n",
       "FUELCONSUMPTION_CITY        0.898039\n",
       "FUELCONSUMPTION_COMB        0.892129\n",
       "ENGINESIZE                  0.874154\n",
       "FUELCONSUMPTION_HWY         0.861748\n",
       "CYLINDERS                   0.849685\n",
       "FUELCONSUMPTION_COMB_MPG   -0.906394\n",
       "MODELYEAR                        NaN\n",
       "Name: CO2EMISSIONS, dtype: float64"
      ]
     },
     "execution_count": 102,
     "metadata": {},
     "output_type": "execute_result"
    }
   ],
   "source": [
    "# Top 10 highest pearson correlation\n",
    "corr_mat = df.corr().CO2EMISSIONS.sort_values(ascending=False)\n",
    "corr_mat.head(8)"
   ]
  },
  {
   "cell_type": "code",
   "execution_count": 103,
   "id": "f0a655e5",
   "metadata": {},
   "outputs": [
    {
     "data": {
      "text/plain": [
       "['MODELYEAR',\n",
       " 'ENGINESIZE',\n",
       " 'CYLINDERS',\n",
       " 'FUELCONSUMPTION_CITY',\n",
       " 'FUELCONSUMPTION_HWY',\n",
       " 'FUELCONSUMPTION_COMB',\n",
       " 'FUELCONSUMPTION_COMB_MPG',\n",
       " 'CO2EMISSIONS']"
      ]
     },
     "execution_count": 103,
     "metadata": {},
     "output_type": "execute_result"
    }
   ],
   "source": [
    "numCols"
   ]
  },
  {
   "cell_type": "code",
   "execution_count": 104,
   "id": "db4f5333",
   "metadata": {},
   "outputs": [
    {
     "data": {
      "image/png": "[encoded data removed]",
      "text/plain": [
       "<Figure size 432x288 with 9 Axes>"
      ]
     },
     "metadata": {
      "needs_background": "light"
     },
     "output_type": "display_data"
    }
   ],
   "source": [
    "numCols2.hist()\n",
    "plt.show()"
   ]
  },
  {
   "cell_type": "code",
   "execution_count": 105,
   "id": "40ca0423",
   "metadata": {},
   "outputs": [
    {
     "data": {
      "text/plain": [
       "pandas.core.frame.DataFrame"
      ]
     },
     "execution_count": 105,
     "metadata": {},
     "output_type": "execute_result"
    }
   ],
   "source": [
    "type(numCols2)"
   ]
  },
  {
   "cell_type": "code",
   "execution_count": 106,
   "id": "7798c6bd",
   "metadata": {},
   "outputs": [],
   "source": [
    "numCols2 = df.select_dtypes(exclude='object')\n"
   ]
  },
  {
   "cell_type": "code",
   "execution_count": 107,
   "id": "973aa9bd",
   "metadata": {},
   "outputs": [
    {
     "data": {
      "text/html": [
       "<div>\n",
       "<style scoped>\n",
       "    .dataframe tbody tr th:only-of-type {\n",
       "        vertical-align: middle;\n",
       "    }\n",
       "\n",
       "    .dataframe tbody tr th {\n",
       "        vertical-align: top;\n",
       "    }\n",
       "\n",
       "    .dataframe thead th {\n",
       "        text-align: right;\n",
       "    }\n",
       "</style>\n",
       "<table border=\"1\" class=\"dataframe\">\n",
       "  <thead>\n",
       "    <tr style=\"text-align: right;\">\n",
       "      <th></th>\n",
       "      <th>MODELYEAR</th>\n",
       "      <th>ENGINESIZE</th>\n",
       "      <th>CYLINDERS</th>\n",
       "      <th>FUELCONSUMPTION_CITY</th>\n",
       "      <th>FUELCONSUMPTION_HWY</th>\n",
       "      <th>FUELCONSUMPTION_COMB</th>\n",
       "      <th>FUELCONSUMPTION_COMB_MPG</th>\n",
       "      <th>CO2EMISSIONS</th>\n",
       "    </tr>\n",
       "  </thead>\n",
       "  <tbody>\n",
       "    <tr>\n",
       "      <th>0</th>\n",
       "      <td>2014</td>\n",
       "      <td>2.0</td>\n",
       "      <td>4</td>\n",
       "      <td>9.9</td>\n",
       "      <td>6.7</td>\n",
       "      <td>8.5</td>\n",
       "      <td>33</td>\n",
       "      <td>196</td>\n",
       "    </tr>\n",
       "    <tr>\n",
       "      <th>1</th>\n",
       "      <td>2014</td>\n",
       "      <td>2.4</td>\n",
       "      <td>4</td>\n",
       "      <td>11.2</td>\n",
       "      <td>7.7</td>\n",
       "      <td>9.6</td>\n",
       "      <td>29</td>\n",
       "      <td>221</td>\n",
       "    </tr>\n",
       "    <tr>\n",
       "      <th>2</th>\n",
       "      <td>2014</td>\n",
       "      <td>1.5</td>\n",
       "      <td>4</td>\n",
       "      <td>6.0</td>\n",
       "      <td>5.8</td>\n",
       "      <td>5.9</td>\n",
       "      <td>48</td>\n",
       "      <td>136</td>\n",
       "    </tr>\n",
       "    <tr>\n",
       "      <th>3</th>\n",
       "      <td>2014</td>\n",
       "      <td>3.5</td>\n",
       "      <td>6</td>\n",
       "      <td>12.7</td>\n",
       "      <td>9.1</td>\n",
       "      <td>11.1</td>\n",
       "      <td>25</td>\n",
       "      <td>255</td>\n",
       "    </tr>\n",
       "    <tr>\n",
       "      <th>4</th>\n",
       "      <td>2014</td>\n",
       "      <td>3.5</td>\n",
       "      <td>6</td>\n",
       "      <td>12.1</td>\n",
       "      <td>8.7</td>\n",
       "      <td>10.6</td>\n",
       "      <td>27</td>\n",
       "      <td>244</td>\n",
       "    </tr>\n",
       "    <tr>\n",
       "      <th>...</th>\n",
       "      <td>...</td>\n",
       "      <td>...</td>\n",
       "      <td>...</td>\n",
       "      <td>...</td>\n",
       "      <td>...</td>\n",
       "      <td>...</td>\n",
       "      <td>...</td>\n",
       "      <td>...</td>\n",
       "    </tr>\n",
       "    <tr>\n",
       "      <th>1062</th>\n",
       "      <td>2014</td>\n",
       "      <td>3.0</td>\n",
       "      <td>6</td>\n",
       "      <td>13.4</td>\n",
       "      <td>9.8</td>\n",
       "      <td>11.8</td>\n",
       "      <td>24</td>\n",
       "      <td>271</td>\n",
       "    </tr>\n",
       "    <tr>\n",
       "      <th>1063</th>\n",
       "      <td>2014</td>\n",
       "      <td>3.2</td>\n",
       "      <td>6</td>\n",
       "      <td>13.2</td>\n",
       "      <td>9.5</td>\n",
       "      <td>11.5</td>\n",
       "      <td>25</td>\n",
       "      <td>264</td>\n",
       "    </tr>\n",
       "    <tr>\n",
       "      <th>1064</th>\n",
       "      <td>2014</td>\n",
       "      <td>3.0</td>\n",
       "      <td>6</td>\n",
       "      <td>13.4</td>\n",
       "      <td>9.8</td>\n",
       "      <td>11.8</td>\n",
       "      <td>24</td>\n",
       "      <td>271</td>\n",
       "    </tr>\n",
       "    <tr>\n",
       "      <th>1065</th>\n",
       "      <td>2014</td>\n",
       "      <td>3.2</td>\n",
       "      <td>6</td>\n",
       "      <td>12.9</td>\n",
       "      <td>9.3</td>\n",
       "      <td>11.3</td>\n",
       "      <td>25</td>\n",
       "      <td>260</td>\n",
       "    </tr>\n",
       "    <tr>\n",
       "      <th>1066</th>\n",
       "      <td>2014</td>\n",
       "      <td>3.2</td>\n",
       "      <td>6</td>\n",
       "      <td>14.9</td>\n",
       "      <td>10.2</td>\n",
       "      <td>12.8</td>\n",
       "      <td>22</td>\n",
       "      <td>294</td>\n",
       "    </tr>\n",
       "  </tbody>\n",
       "</table>\n",
       "<p>1067 rows × 8 columns</p>\n",
       "</div>"
      ],
      "text/plain": [
       "      MODELYEAR  ENGINESIZE  CYLINDERS  FUELCONSUMPTION_CITY  \\\n",
       "0          2014         2.0          4                   9.9   \n",
       "1          2014         2.4          4                  11.2   \n",
       "2          2014         1.5          4                   6.0   \n",
       "3          2014         3.5          6                  12.7   \n",
       "4          2014         3.5          6                  12.1   \n",
       "...         ...         ...        ...                   ...   \n",
       "1062       2014         3.0          6                  13.4   \n",
       "1063       2014         3.2          6                  13.2   \n",
       "1064       2014         3.0          6                  13.4   \n",
       "1065       2014         3.2          6                  12.9   \n",
       "1066       2014         3.2          6                  14.9   \n",
       "\n",
       "      FUELCONSUMPTION_HWY  FUELCONSUMPTION_COMB  FUELCONSUMPTION_COMB_MPG  \\\n",
       "0                     6.7                   8.5                        33   \n",
       "1                     7.7                   9.6                        29   \n",
       "2                     5.8                   5.9                        48   \n",
       "3                     9.1                  11.1                        25   \n",
       "4                     8.7                  10.6                        27   \n",
       "...                   ...                   ...                       ...   \n",
       "1062                  9.8                  11.8                        24   \n",
       "1063                  9.5                  11.5                        25   \n",
       "1064                  9.8                  11.8                        24   \n",
       "1065                  9.3                  11.3                        25   \n",
       "1066                 10.2                  12.8                        22   \n",
       "\n",
       "      CO2EMISSIONS  \n",
       "0              196  \n",
       "1              221  \n",
       "2              136  \n",
       "3              255  \n",
       "4              244  \n",
       "...            ...  \n",
       "1062           271  \n",
       "1063           264  \n",
       "1064           271  \n",
       "1065           260  \n",
       "1066           294  \n",
       "\n",
       "[1067 rows x 8 columns]"
      ]
     },
     "execution_count": 107,
     "metadata": {},
     "output_type": "execute_result"
    }
   ],
   "source": [
    "numCols2"
   ]
  },
  {
   "cell_type": "code",
   "execution_count": 108,
   "id": "4114a12a",
   "metadata": {},
   "outputs": [
    {
     "data": {
      "image/png": "[encoded data removed]",
      "text/plain": [
       "<Figure size 432x288 with 1 Axes>"
      ]
     },
     "metadata": {
      "needs_background": "light"
     },
     "output_type": "display_data"
    }
   ],
   "source": [
    "plt.scatter(df.FUELCONSUMPTION_COMB, df.CO2EMISSIONS,  color='blue')\n",
    "plt.xlabel(\"FUELCONSUMPTION_COMB\")\n",
    "plt.ylabel(\"Emission\")\n",
    "plt.show()"
   ]
  },
  {
   "cell_type": "code",
   "execution_count": 109,
   "id": "ad44b448",
   "metadata": {},
   "outputs": [
    {
     "data": {
      "image/png": "[encoded data removed]",
      "text/plain": [
       "<Figure size 432x288 with 1 Axes>"
      ]
     },
     "metadata": {
      "needs_background": "light"
     },
     "output_type": "display_data"
    }
   ],
   "source": [
    "plt.figure(figsize=(6,4))\n",
    "sns.scatterplot(data = df, x = 'FUELCONSUMPTION_COMB', y = 'CO2EMISSIONS')\n",
    "title = plt.title('House Price by Overall Quality')"
   ]
  },
  {
   "cell_type": "markdown",
   "id": "e26c697a",
   "metadata": {},
   "source": [
    "<a name='1.5'></a>\n",
    "## 1.5 Data Preparation"
   ]
  },
  {
   "cell_type": "code",
   "execution_count": 8,
   "id": "4667d076",
   "metadata": {},
   "outputs": [],
   "source": [
    "#80/20 split\n",
    "msk = np.random.rand(len(df)) < 0.8\n",
    "train = df[msk]\n",
    "test = df[~msk]\n",
    "\n",
    "#FOR ENGINESIZE VS CO2EMISSIONS\n",
    "train_x1 = np.asanyarray(train[['ENGINESIZE']])\n",
    "train_y1 = np.asanyarray(train[['CO2EMISSIONS']])\n",
    "test_x1 = np.asanyarray(test[['ENGINESIZE']])\n",
    "test_y1 = np.asanyarray(test[['CO2EMISSIONS']])\n",
    "\n",
    "#FOR FUELCONSUMPTION_COMB VS CO2EMISSIONS\n",
    "train_x2 = np.asanyarray(train[['FUELCONSUMPTION_COMB']])\n",
    "train_y2 = np.asanyarray(train[['CO2EMISSIONS']])\n",
    "test_x2 = np.asanyarray(test[['FUELCONSUMPTION_COMB']])\n",
    "test_y2 = np.asanyarray(test[['CO2EMISSIONS']])"
   ]
  },
  {
   "cell_type": "code",
   "execution_count": 80,
   "id": "b132ac8e",
   "metadata": {},
   "outputs": [
    {
     "name": "stdout",
     "output_type": "stream",
     "text": [
      "train_x1: (850, 3) (80.0%)\n",
      "train_y1: (850, 1) (80.0%)\n",
      "test_x1: (217, 3) (20.0%)\n",
      "test_y1: (217, 1) (20.0%)\n",
      "\n"
     ]
    }
   ],
   "source": [
    "train_x = np.asanyarray(train[['ENGINESIZE','CYLINDERS','FUELCONSUMPTION_COMB']])\n",
    "train_y = np.asanyarray(train[['CO2EMISSIONS']])\n",
    "test_x = np.asanyarray(test[['ENGINESIZE','CYLINDERS','FUELCONSUMPTION_COMB']])\n",
    "test_y = np.asanyarray(test[['CO2EMISSIONS']])\n",
    "\n",
    "print(f'train_x1: {train_x.shape} ({round(len(train_x)/len(df), 1) * 100}%)')\n",
    "print(f'train_y1: {train_y.shape} ({round(len(train_y)/len(df), 1) * 100}%)')\n",
    "print(f'test_x1: {test_x.shape} ({round(len(test_x)/len(df), 1) * 100}%)')\n",
    "print(f'test_y1: {test_y.shape} ({round(len(test_y)/len(df), 1) * 100}%)')\n",
    "print('')\n",
    "\n"
   ]
  },
  {
   "cell_type": "code",
   "execution_count": null,
   "id": "b9db697b",
   "metadata": {},
   "outputs": [],
   "source": [
    "train_x = np.asanyarray(train.drop('CO2EMISSIONS', axis=1 ))\n"
   ]
  },
  {
   "cell_type": "code",
   "execution_count": 81,
   "id": "ddc47dbe",
   "metadata": {},
   "outputs": [
    {
     "name": "stdout",
     "output_type": "stream",
     "text": [
      "Coefficients:  [[10.14580304  8.30923919  9.25484685]]\n",
      "Intercept:  [66.77621612]\n",
      " \n"
     ]
    }
   ],
   "source": [
    "#FOR ENGINESIZE VS CO2EMISSIONS\n",
    "regr = linear_model.LinearRegression()\n",
    "regr.fit(train_x, train_y)\n",
    "# The coefficients\n",
    "print ('Coefficients: ', regr.coef_)\n",
    "print ('Intercept: ', regr.intercept_)\n",
    "print (' ')"
   ]
  },
  {
   "cell_type": "code",
   "execution_count": 83,
   "id": "f8354e33",
   "metadata": {},
   "outputs": [
    {
     "name": "stdout",
     "output_type": "stream",
     "text": [
      "Mean absolute error: 16.32\n",
      "Residual sum of squares (MSE): 515.38\n",
      "R2-score: 0.88\n",
      "Variance score: 0.88\n"
     ]
    }
   ],
   "source": [
    "from sklearn.metrics import r2_score\n",
    "\n",
    "test_y_ = regr.predict(test_x)\n",
    "\n",
    "print(\"Mean absolute error: %.2f\" % np.mean(np.absolute(test_y_ - test_y)))\n",
    "print(\"Residual sum of squares (MSE): %.2f\" % np.mean((test_y_ - test_y) ** 2))\n",
    "print(\"R2-score: %.2f\" % r2_score(test_y , test_y_) )\n",
    "\n",
    "# Explained variance score: 1 is perfect prediction\n",
    "print('Variance score: %.2f' % regr.score(test_x, test_y))"
   ]
  },
  {
   "cell_type": "code",
   "execution_count": 9,
   "id": "ccd3e73f",
   "metadata": {},
   "outputs": [
    {
     "name": "stdout",
     "output_type": "stream",
     "text": [
      "train_x1: (850, 1) (80.0%)\n",
      "train_y1: (850, 1) (80.0%)\n",
      "test_x1: (217, 1) (20.0%)\n",
      "test_y1: (217, 1) (20.0%)\n",
      "\n",
      "train_x2: (850, 1) (80.0%)\n",
      "train_y2: (850, 1) (80.0%)\n",
      "test_x2: (217, 1) (20.0%)\n",
      "test_y2: (217, 1) (20.0%)\n"
     ]
    }
   ],
   "source": [
    "#80/20 split\n",
    "print(f'train_x1: {train_x1.shape} ({round(len(train_x1)/len(df), 1) * 100}%)')\n",
    "print(f'train_y1: {train_y1.shape} ({round(len(train_y1)/len(df), 1) * 100}%)')\n",
    "print(f'test_x1: {test_x1.shape} ({round(len(test_x1)/len(df), 1) * 100}%)')\n",
    "print(f'test_y1: {test_y1.shape} ({round(len(test_y1)/len(df), 1) * 100}%)')\n",
    "print('')\n",
    "\n",
    "#80/20 split\n",
    "print(f'train_x2: {train_x2.shape} ({round(len(train_x2)/len(df), 1) * 100}%)')\n",
    "print(f'train_y2: {train_y2.shape} ({round(len(train_y2)/len(df), 1) * 100}%)')\n",
    "print(f'test_x2: {test_x2.shape} ({round(len(test_x2)/len(df), 1) * 100}%)')\n",
    "print(f'test_y2: {test_y2.shape} ({round(len(test_y2)/len(df), 1) * 100}%)')"
   ]
  },
  {
   "cell_type": "markdown",
   "id": "994332aa",
   "metadata": {},
   "source": [
    "<a name='4'></a>\n",
    "# 4. Model"
   ]
  },
  {
   "cell_type": "markdown",
   "id": "848f0857",
   "metadata": {},
   "source": [
    "<a name='4'></a>\n",
    "## 4.1 Train"
   ]
  },
  {
   "cell_type": "code",
   "execution_count": 10,
   "id": "9b3b2a86",
   "metadata": {},
   "outputs": [
    {
     "name": "stdout",
     "output_type": "stream",
     "text": [
      "Coefficients:  [[39.10583162]]\n",
      "Intercept:  [125.79400402]\n",
      " \n",
      "Coefficients:  [[15.95863089]]\n",
      "Intercept:  [70.91824285]\n"
     ]
    }
   ],
   "source": [
    "from sklearn import linear_model\n",
    "\n",
    "#FOR ENGINESIZE VS CO2EMISSIONS\n",
    "regr1 = linear_model.LinearRegression()\n",
    "regr1.fit(train_x1, train_y1)\n",
    "# The coefficients\n",
    "print ('Coefficients: ', regr1.coef_)\n",
    "print ('Intercept: ', regr1.intercept_)\n",
    "print (' ')\n",
    "\n",
    "#FOR FUELCONSUMPTION_COMB VS CO2EMISSIONS\n",
    "regr2 = linear_model.LinearRegression()\n",
    "regr2.fit(train_x2, train_y2)\n",
    "# The coefficients\n",
    "print ('Coefficients: ', regr2.coef_)\n",
    "print ('Intercept: ', regr2.intercept_)"
   ]
  },
  {
   "cell_type": "markdown",
   "id": "5eec1e55",
   "metadata": {},
   "source": [
    "<a name='4'></a>\n",
    "## 4.2 Test"
   ]
  },
  {
   "cell_type": "code",
   "execution_count": 55,
   "id": "b24f1450",
   "metadata": {},
   "outputs": [],
   "source": [
    "from sklearn.metrics import r2_score\n",
    "\n",
    "test_y1_ = regr1.predict(test_x1)\n",
    "test_y2_ = regr2.predict(test_x2)"
   ]
  },
  {
   "cell_type": "markdown",
   "id": "05c4e421",
   "metadata": {},
   "source": [
    "<a name='5'></a>\n",
    "# 5. Model Evaluation"
   ]
  },
  {
   "cell_type": "code",
   "execution_count": null,
   "id": "bb915035",
   "metadata": {},
   "outputs": [],
   "source": []
  },
  {
   "cell_type": "code",
   "execution_count": null,
   "id": "207ab1c8",
   "metadata": {},
   "outputs": [],
   "source": []
  }
 ],
 "metadata": {
  "kernelspec": {
   "display_name": "Python 3 (ipykernel)",
   "language": "python",
   "name": "python3"
  },
  "language_info": {
   "codemirror_mode": {
    "name": "ipython",
    "version": 3
   },
   "file_extension": ".py",
   "mimetype": "text/x-python",
   "name": "python",
   "nbconvert_exporter": "python",
   "pygments_lexer": "ipython3",
   "version": "3.9.12"
  }
 },
 "nbformat": 4,
 "nbformat_minor": 5
}
