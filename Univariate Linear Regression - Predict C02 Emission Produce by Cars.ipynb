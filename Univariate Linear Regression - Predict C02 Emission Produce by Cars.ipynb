{
 "cells": [
  {
   "cell_type": "markdown",
   "id": "a251dc05",
   "metadata": {},
   "source": [
    "## Table of Contents\n",
    "\n",
    "- [1. Introduction and Data Preprocessing](#1)\n",
    "    - [1.1 Problem Statement](#1.1)\n",
    "    - [1.2 Packages](#1.2)\n",
    "    - [1.3 Data Read/Import](#1.3)\n",
    "    - [1.4 Data Summary](#1.4)\n",
    "    - [1.5 Data Preparation](#1.5)\n",
    "- [2. Exploratory Data Analysis](#2)\n",
    "    - [2.1 Target/Dependent Variable](#2.1)\n",
    "    - [2.2 Feature/Independent Variables Correlation with Target/Dependent Variable](#2.2)\n",
    "- [3. Feature Engineering](#3)\n",
    "    - [3.1 Missing Values](#3.1)\n",
    "- [4. Model](#4)\n",
    "    - [4.1 Train](#4.1)\n",
    "    - [4.2 Test](#4.2)\n",
    "- [5. Model Evaluation](#5)\n",
    "- [6. Conclusion](#6)"
   ]
  },
  {
   "cell_type": "markdown",
   "id": "b6d2354c",
   "metadata": {},
   "source": [
    "<a name='1'></a>\n",
    "# 1. Introduction and Data Preprocessing"
   ]
  },
  {
   "cell_type": "markdown",
   "id": "ad275d6d",
   "metadata": {},
   "source": [
    "<a name='1.1'></a>\n",
    "## 1.1 Problem Statement\n",
    "\n",
    "We want to predict the C02 Emission produced by cars. We have many variables from the car age, the brand, the engine size, etc. In modelling we want to try to practice using simple linear regression algorithm"
   ]
  },
  {
   "cell_type": "markdown",
   "id": "58324cbb",
   "metadata": {},
   "source": [
    "<a name='1.2'></a>\n",
    "## 1.2 Packages"
   ]
  },
  {
   "cell_type": "code",
   "execution_count": 19,
   "id": "2ebf1366",
   "metadata": {},
   "outputs": [],
   "source": [
    "import matplotlib.pyplot as plt\n",
    "import pandas as pd\n",
    "import pylab as pl\n",
    "import numpy as np\n",
    "import seaborn as sns\n",
    "%matplotlib inline"
   ]
  },
  {
   "cell_type": "markdown",
   "id": "c1720f2e",
   "metadata": {},
   "source": [
    "<a name='1.3'></a>\n",
    "## 1.3 Data Read/Import"
   ]
  },
  {
   "cell_type": "code",
   "execution_count": 20,
   "id": "883ab89f",
   "metadata": {},
   "outputs": [],
   "source": [
    "df = pd.read_csv(\"FuelConsumption.csv\")"
   ]
  },
  {
   "cell_type": "markdown",
   "id": "78b8d044",
   "metadata": {},
   "source": [
    "<a name='1.4'></a>\n",
    "## 1.4 Data Summary"
   ]
  },
  {
   "cell_type": "code",
   "execution_count": 21,
   "id": "5a1bd7c1",
   "metadata": {},
   "outputs": [
    {
     "name": "stdout",
     "output_type": "stream",
     "text": [
      "<class 'pandas.core.frame.DataFrame'>\n",
      "RangeIndex: 1067 entries, 0 to 1066\n",
      "Data columns (total 13 columns):\n",
      " #   Column                    Non-Null Count  Dtype  \n",
      "---  ------                    --------------  -----  \n",
      " 0   MODELYEAR                 1067 non-null   int64  \n",
      " 1   MAKE                      1067 non-null   object \n",
      " 2   MODEL                     1067 non-null   object \n",
      " 3   VEHICLECLASS              1067 non-null   object \n",
      " 4   ENGINESIZE                1067 non-null   float64\n",
      " 5   CYLINDERS                 1067 non-null   int64  \n",
      " 6   TRANSMISSION              1067 non-null   object \n",
      " 7   FUELTYPE                  1067 non-null   object \n",
      " 8   FUELCONSUMPTION_CITY      1067 non-null   float64\n",
      " 9   FUELCONSUMPTION_HWY       1067 non-null   float64\n",
      " 10  FUELCONSUMPTION_COMB      1067 non-null   float64\n",
      " 11  FUELCONSUMPTION_COMB_MPG  1067 non-null   int64  \n",
      " 12  CO2EMISSIONS              1067 non-null   int64  \n",
      "dtypes: float64(4), int64(4), object(5)\n",
      "memory usage: 108.5+ KB\n"
     ]
    }
   ],
   "source": [
    "df.info()"
   ]
  },
  {
   "cell_type": "code",
   "execution_count": 22,
   "id": "b52a92d0",
   "metadata": {},
   "outputs": [
    {
     "name": "stdout",
     "output_type": "stream",
     "text": [
      "There are 8 numerical features:\n",
      " ['MODELYEAR', 'ENGINESIZE', 'CYLINDERS', 'FUELCONSUMPTION_CITY', 'FUELCONSUMPTION_HWY', 'FUELCONSUMPTION_COMB', 'FUELCONSUMPTION_COMB_MPG', 'CO2EMISSIONS']\n"
     ]
    }
   ],
   "source": [
    "numCols = list(df.select_dtypes(exclude='object').columns)\n",
    "print(f\"There are {len(numCols)} numerical features:\\n\", numCols)"
   ]
  },
  {
   "cell_type": "code",
   "execution_count": 23,
   "id": "3479c61c",
   "metadata": {},
   "outputs": [
    {
     "name": "stdout",
     "output_type": "stream",
     "text": [
      "There are 5 categorical features:\n",
      " ['MAKE', 'MODEL', 'VEHICLECLASS', 'TRANSMISSION', 'FUELTYPE']\n"
     ]
    }
   ],
   "source": [
    "catCols = list(df.select_dtypes(include='object').columns)\n",
    "print(f\"There are {len(catCols)} categorical features:\\n\", catCols)"
   ]
  },
  {
   "cell_type": "code",
   "execution_count": 24,
   "id": "5519cacf",
   "metadata": {},
   "outputs": [
    {
     "data": {
      "text/html": [
       "<div>\n",
       "<style scoped>\n",
       "    .dataframe tbody tr th:only-of-type {\n",
       "        vertical-align: middle;\n",
       "    }\n",
       "\n",
       "    .dataframe tbody tr th {\n",
       "        vertical-align: top;\n",
       "    }\n",
       "\n",
       "    .dataframe thead th {\n",
       "        text-align: right;\n",
       "    }\n",
       "</style>\n",
       "<table border=\"1\" class=\"dataframe\">\n",
       "  <thead>\n",
       "    <tr style=\"text-align: right;\">\n",
       "      <th></th>\n",
       "      <th>MODELYEAR</th>\n",
       "      <th>MAKE</th>\n",
       "      <th>MODEL</th>\n",
       "      <th>VEHICLECLASS</th>\n",
       "      <th>ENGINESIZE</th>\n",
       "      <th>CYLINDERS</th>\n",
       "      <th>TRANSMISSION</th>\n",
       "      <th>FUELTYPE</th>\n",
       "      <th>FUELCONSUMPTION_CITY</th>\n",
       "      <th>FUELCONSUMPTION_HWY</th>\n",
       "      <th>FUELCONSUMPTION_COMB</th>\n",
       "      <th>FUELCONSUMPTION_COMB_MPG</th>\n",
       "      <th>CO2EMISSIONS</th>\n",
       "    </tr>\n",
       "  </thead>\n",
       "  <tbody>\n",
       "    <tr>\n",
       "      <th>0</th>\n",
       "      <td>2014</td>\n",
       "      <td>ACURA</td>\n",
       "      <td>ILX</td>\n",
       "      <td>COMPACT</td>\n",
       "      <td>2.0</td>\n",
       "      <td>4</td>\n",
       "      <td>AS5</td>\n",
       "      <td>Z</td>\n",
       "      <td>9.9</td>\n",
       "      <td>6.7</td>\n",
       "      <td>8.5</td>\n",
       "      <td>33</td>\n",
       "      <td>196</td>\n",
       "    </tr>\n",
       "    <tr>\n",
       "      <th>1</th>\n",
       "      <td>2014</td>\n",
       "      <td>ACURA</td>\n",
       "      <td>ILX</td>\n",
       "      <td>COMPACT</td>\n",
       "      <td>2.4</td>\n",
       "      <td>4</td>\n",
       "      <td>M6</td>\n",
       "      <td>Z</td>\n",
       "      <td>11.2</td>\n",
       "      <td>7.7</td>\n",
       "      <td>9.6</td>\n",
       "      <td>29</td>\n",
       "      <td>221</td>\n",
       "    </tr>\n",
       "    <tr>\n",
       "      <th>2</th>\n",
       "      <td>2014</td>\n",
       "      <td>ACURA</td>\n",
       "      <td>ILX HYBRID</td>\n",
       "      <td>COMPACT</td>\n",
       "      <td>1.5</td>\n",
       "      <td>4</td>\n",
       "      <td>AV7</td>\n",
       "      <td>Z</td>\n",
       "      <td>6.0</td>\n",
       "      <td>5.8</td>\n",
       "      <td>5.9</td>\n",
       "      <td>48</td>\n",
       "      <td>136</td>\n",
       "    </tr>\n",
       "    <tr>\n",
       "      <th>3</th>\n",
       "      <td>2014</td>\n",
       "      <td>ACURA</td>\n",
       "      <td>MDX 4WD</td>\n",
       "      <td>SUV - SMALL</td>\n",
       "      <td>3.5</td>\n",
       "      <td>6</td>\n",
       "      <td>AS6</td>\n",
       "      <td>Z</td>\n",
       "      <td>12.7</td>\n",
       "      <td>9.1</td>\n",
       "      <td>11.1</td>\n",
       "      <td>25</td>\n",
       "      <td>255</td>\n",
       "    </tr>\n",
       "    <tr>\n",
       "      <th>4</th>\n",
       "      <td>2014</td>\n",
       "      <td>ACURA</td>\n",
       "      <td>RDX AWD</td>\n",
       "      <td>SUV - SMALL</td>\n",
       "      <td>3.5</td>\n",
       "      <td>6</td>\n",
       "      <td>AS6</td>\n",
       "      <td>Z</td>\n",
       "      <td>12.1</td>\n",
       "      <td>8.7</td>\n",
       "      <td>10.6</td>\n",
       "      <td>27</td>\n",
       "      <td>244</td>\n",
       "    </tr>\n",
       "  </tbody>\n",
       "</table>\n",
       "</div>"
      ],
      "text/plain": [
       "   MODELYEAR   MAKE       MODEL VEHICLECLASS  ENGINESIZE  CYLINDERS  \\\n",
       "0       2014  ACURA         ILX      COMPACT         2.0          4   \n",
       "1       2014  ACURA         ILX      COMPACT         2.4          4   \n",
       "2       2014  ACURA  ILX HYBRID      COMPACT         1.5          4   \n",
       "3       2014  ACURA     MDX 4WD  SUV - SMALL         3.5          6   \n",
       "4       2014  ACURA     RDX AWD  SUV - SMALL         3.5          6   \n",
       "\n",
       "  TRANSMISSION FUELTYPE  FUELCONSUMPTION_CITY  FUELCONSUMPTION_HWY  \\\n",
       "0          AS5        Z                   9.9                  6.7   \n",
       "1           M6        Z                  11.2                  7.7   \n",
       "2          AV7        Z                   6.0                  5.8   \n",
       "3          AS6        Z                  12.7                  9.1   \n",
       "4          AS6        Z                  12.1                  8.7   \n",
       "\n",
       "   FUELCONSUMPTION_COMB  FUELCONSUMPTION_COMB_MPG  CO2EMISSIONS  \n",
       "0                   8.5                        33           196  \n",
       "1                   9.6                        29           221  \n",
       "2                   5.9                        48           136  \n",
       "3                  11.1                        25           255  \n",
       "4                  10.6                        27           244  "
      ]
     },
     "execution_count": 24,
     "metadata": {},
     "output_type": "execute_result"
    }
   ],
   "source": [
    "df.head()"
   ]
  },
  {
   "cell_type": "markdown",
   "id": "4d844ae3",
   "metadata": {},
   "source": [
    "<a name='1.5'></a>\n",
    "## 1.5 Data Split"
   ]
  },
  {
   "cell_type": "code",
   "execution_count": 25,
   "id": "cdf6fd94",
   "metadata": {},
   "outputs": [],
   "source": [
    "#80/20 split\n",
    "msk = np.random.rand(len(df)) < 0.8\n",
    "train = df[msk]\n",
    "test = df[~msk]\n",
    "\n",
    "#FOR ENGINESIZE VS CO2EMISSIONS\n",
    "train_x1 = np.asanyarray(train[['ENGINESIZE']])\n",
    "train_y1 = np.asanyarray(train[['CO2EMISSIONS']])\n",
    "test_x1 = np.asanyarray(test[['ENGINESIZE']])\n",
    "test_y1 = np.asanyarray(test[['CO2EMISSIONS']])\n",
    "\n",
    "#FOR FUELCONSUMPTION_COMB VS CO2EMISSIONS\n",
    "train_x2 = np.asanyarray(train[['FUELCONSUMPTION_COMB']])\n",
    "train_y2 = np.asanyarray(train[['CO2EMISSIONS']])\n",
    "test_x2 = np.asanyarray(test[['FUELCONSUMPTION_COMB']])\n",
    "test_y2 = np.asanyarray(test[['CO2EMISSIONS']])"
   ]
  },
  {
   "cell_type": "code",
   "execution_count": 26,
   "id": "60cfe510",
   "metadata": {},
   "outputs": [
    {
     "name": "stdout",
     "output_type": "stream",
     "text": [
      "train_x1: (851, 1) (80.0%)\n",
      "train_y1: (851, 1) (80.0%)\n",
      "test_x1: (216, 1) (20.0%)\n",
      "test_y1: (216, 1) (20.0%)\n",
      "\n",
      "train_x2: (851, 1) (80.0%)\n",
      "train_y2: (851, 1) (80.0%)\n",
      "test_x2: (216, 1) (20.0%)\n",
      "test_y2: (216, 1) (20.0%)\n"
     ]
    }
   ],
   "source": [
    "#80/20 split\n",
    "print(f'train_x1: {train_x1.shape} ({round(len(train_x1)/len(df), 1) * 100}%)')\n",
    "print(f'train_y1: {train_y1.shape} ({round(len(train_y1)/len(df), 1) * 100}%)')\n",
    "print(f'test_x1: {test_x1.shape} ({round(len(test_x1)/len(df), 1) * 100}%)')\n",
    "print(f'test_y1: {test_y1.shape} ({round(len(test_y1)/len(df), 1) * 100}%)')\n",
    "print('')\n",
    "\n",
    "#80/20 split\n",
    "print(f'train_x2: {train_x2.shape} ({round(len(train_x2)/len(df), 1) * 100}%)')\n",
    "print(f'train_y2: {train_y2.shape} ({round(len(train_y2)/len(df), 1) * 100}%)')\n",
    "print(f'test_x2: {test_x2.shape} ({round(len(test_x2)/len(df), 1) * 100}%)')\n",
    "print(f'test_y2: {test_y2.shape} ({round(len(test_y2)/len(df), 1) * 100}%)')"
   ]
  },
  {
   "cell_type": "markdown",
   "id": "ed6672fb",
   "metadata": {},
   "source": [
    "<a name='2'></a>\n",
    "# 2. Exploratory Data Analysis"
   ]
  },
  {
   "cell_type": "markdown",
   "id": "ba55cfea",
   "metadata": {},
   "source": [
    "<a name='2.1'></a>\n",
    "## 2.1 Target Variable"
   ]
  },
  {
   "cell_type": "code",
   "execution_count": 27,
   "id": "375c6701",
   "metadata": {},
   "outputs": [
    {
     "data": {
      "text/plain": [
       "Text(0.5, 1.0, 'CO2 Emissions Distribution')"
      ]
     },
     "execution_count": 27,
     "metadata": {},
     "output_type": "execute_result"
    },
    {
     "data": {
      "image/png": "[encoded data removed]",
      "text/plain": [
       "<Figure size 360x360 with 1 Axes>"
      ]
     },
     "metadata": {
      "needs_background": "light"
     },
     "output_type": "display_data"
    }
   ],
   "source": [
    "fig, ax = plt.subplots(figsize=(5,5))\n",
    "sns.kdeplot(df['CO2EMISSIONS'], color=\"red\")\n",
    "plt.title(\"CO2 Emissions Distribution\")"
   ]
  },
  {
   "cell_type": "markdown",
   "id": "ae8bf5a1",
   "metadata": {},
   "source": [
    "## 2.2 Features Correlation with Target"
   ]
  },
  {
   "cell_type": "code",
   "execution_count": 28,
   "id": "e4e6cc41",
   "metadata": {},
   "outputs": [
    {
     "data": {
      "text/plain": [
       "CO2EMISSIONS                1.000000\n",
       "FUELCONSUMPTION_CITY        0.898039\n",
       "FUELCONSUMPTION_COMB        0.892129\n",
       "ENGINESIZE                  0.874154\n",
       "FUELCONSUMPTION_HWY         0.861748\n",
       "CYLINDERS                   0.849685\n",
       "FUELCONSUMPTION_COMB_MPG   -0.906394\n",
       "MODELYEAR                        NaN\n",
       "Name: CO2EMISSIONS, dtype: float64"
      ]
     },
     "execution_count": 28,
     "metadata": {},
     "output_type": "execute_result"
    }
   ],
   "source": [
    "# Top 10 highest pearson correlation\n",
    "corr_mat = df.corr().CO2EMISSIONS.sort_values(ascending=False)\n",
    "corr_mat.head(8)"
   ]
  },
  {
   "cell_type": "markdown",
   "id": "9dccaa43",
   "metadata": {},
   "source": [
    "From six numerical variables, five of them have very high positive correlation value ranging from 0.85 to 0.89. One variable has high negative correlation with -0.91. In this case we will only use two independent variables to try modelling simple linear regression"
   ]
  },
  {
   "cell_type": "code",
   "execution_count": 29,
   "id": "f0a655e5",
   "metadata": {},
   "outputs": [],
   "source": [
    "def plotCorrelation(variables):\n",
    "    \"\"\"\n",
    "    1. Print correlation of two variables\n",
    "    2. Create jointplot of two variables\n",
    "    \"\"\"\n",
    "    # Print correlation\n",
    "    print(\"Correlation: \", df[[variables[0], variables[1]]].corr().iloc[1, 0])\n",
    "\n",
    "    # Create jointplot\n",
    "    plt.figure(figsize=(1, 1))\n",
    "    sns.jointplot(data = df,\n",
    "                   x = df[(variables[0])],\n",
    "                  y = df[(variables[1])],\n",
    "                  kind='reg',\n",
    "                  height=4,\n",
    "                  ratio=5,\n",
    "                  color='red',\n",
    "                  scatter_kws={'s': 5},\n",
    "                  marginal_kws={'kde': True})"
   ]
  },
  {
   "cell_type": "code",
   "execution_count": 30,
   "id": "db4f5333",
   "metadata": {},
   "outputs": [
    {
     "name": "stdout",
     "output_type": "stream",
     "text": [
      "Correlation:  0.8741543683958124\n",
      "Correlation:  0.8921285933157569\n"
     ]
    },
    {
     "data": {
      "text/plain": [
       "<Figure size 72x72 with 0 Axes>"
      ]
     },
     "metadata": {},
     "output_type": "display_data"
    },
    {
     "data": {
      "image/png": "[encoded data removed]",
      "text/plain": [
       "<Figure size 288x288 with 3 Axes>"
      ]
     },
     "metadata": {
      "needs_background": "light"
     },
     "output_type": "display_data"
    },
    {
     "data": {
      "text/plain": [
       "<Figure size 72x72 with 0 Axes>"
      ]
     },
     "metadata": {},
     "output_type": "display_data"
    },
    {
     "data": {
      "image/png": "[encoded data removed]",
      "text/plain": [
       "<Figure size 288x288 with 3 Axes>"
      ]
     },
     "metadata": {
      "needs_background": "light"
     },
     "output_type": "display_data"
    }
   ],
   "source": [
    "plotCorrelation(['ENGINESIZE', 'CO2EMISSIONS']),\n",
    "plotCorrelation(['FUELCONSUMPTION_COMB', 'CO2EMISSIONS'])"
   ]
  },
  {
   "cell_type": "markdown",
   "id": "e26c697a",
   "metadata": {},
   "source": [
    "<a name='1.5'></a>\n",
    "## 1.5 Data Preparation"
   ]
  },
  {
   "cell_type": "code",
   "execution_count": 31,
   "id": "4667d076",
   "metadata": {},
   "outputs": [],
   "source": [
    "#80/20 split\n",
    "msk = np.random.rand(len(df)) < 0.8\n",
    "train = df[msk]\n",
    "test = df[~msk]\n",
    "\n",
    "#FOR ENGINESIZE VS CO2EMISSIONS\n",
    "train_x1 = np.asanyarray(train[['ENGINESIZE']])\n",
    "train_y1 = np.asanyarray(train[['CO2EMISSIONS']])\n",
    "test_x1 = np.asanyarray(test[['ENGINESIZE']])\n",
    "test_y1 = np.asanyarray(test[['CO2EMISSIONS']])\n",
    "\n",
    "#FOR FUELCONSUMPTION_COMB VS CO2EMISSIONS\n",
    "train_x2 = np.asanyarray(train[['FUELCONSUMPTION_COMB']])\n",
    "train_y2 = np.asanyarray(train[['CO2EMISSIONS']])\n",
    "test_x2 = np.asanyarray(test[['FUELCONSUMPTION_COMB']])\n",
    "test_y2 = np.asanyarray(test[['CO2EMISSIONS']])"
   ]
  },
  {
   "cell_type": "code",
   "execution_count": 32,
   "id": "ccd3e73f",
   "metadata": {},
   "outputs": [
    {
     "name": "stdout",
     "output_type": "stream",
     "text": [
      "train_x1: (858, 1) (80.0%)\n",
      "train_y1: (858, 1) (80.0%)\n",
      "test_x1: (209, 1) (20.0%)\n",
      "test_y1: (209, 1) (20.0%)\n",
      "\n",
      "train_x2: (858, 1) (80.0%)\n",
      "train_y2: (858, 1) (80.0%)\n",
      "test_x2: (209, 1) (20.0%)\n",
      "test_y2: (209, 1) (20.0%)\n"
     ]
    }
   ],
   "source": [
    "#80/20 split\n",
    "print(f'train_x1: {train_x1.shape} ({round(len(train_x1)/len(df), 1) * 100}%)')\n",
    "print(f'train_y1: {train_y1.shape} ({round(len(train_y1)/len(df), 1) * 100}%)')\n",
    "print(f'test_x1: {test_x1.shape} ({round(len(test_x1)/len(df), 1) * 100}%)')\n",
    "print(f'test_y1: {test_y1.shape} ({round(len(test_y1)/len(df), 1) * 100}%)')\n",
    "print('')\n",
    "\n",
    "#80/20 split\n",
    "print(f'train_x2: {train_x2.shape} ({round(len(train_x2)/len(df), 1) * 100}%)')\n",
    "print(f'train_y2: {train_y2.shape} ({round(len(train_y2)/len(df), 1) * 100}%)')\n",
    "print(f'test_x2: {test_x2.shape} ({round(len(test_x2)/len(df), 1) * 100}%)')\n",
    "print(f'test_y2: {test_y2.shape} ({round(len(test_y2)/len(df), 1) * 100}%)')"
   ]
  },
  {
   "cell_type": "markdown",
   "id": "5c7a896f",
   "metadata": {},
   "source": [
    "<a name='3'></a>\n",
    "# 3. Feature Engineering"
   ]
  },
  {
   "cell_type": "markdown",
   "id": "59831b1f",
   "metadata": {},
   "source": [
    "<a name='3.1'></a>\n",
    "## 3.1 Missing Values"
   ]
  },
  {
   "cell_type": "code",
   "execution_count": 33,
   "id": "a898061f",
   "metadata": {},
   "outputs": [
    {
     "name": "stdout",
     "output_type": "stream",
     "text": [
      "There are 0 features having missing data.\n",
      "\n",
      "Top 10 missing value features:\n"
     ]
    },
    {
     "data": {
      "text/html": [
       "<div>\n",
       "<style scoped>\n",
       "    .dataframe tbody tr th:only-of-type {\n",
       "        vertical-align: middle;\n",
       "    }\n",
       "\n",
       "    .dataframe tbody tr th {\n",
       "        vertical-align: top;\n",
       "    }\n",
       "\n",
       "    .dataframe thead th {\n",
       "        text-align: right;\n",
       "    }\n",
       "</style>\n",
       "<table border=\"1\" class=\"dataframe\">\n",
       "  <thead>\n",
       "    <tr style=\"text-align: right;\">\n",
       "      <th></th>\n",
       "      <th>Count</th>\n",
       "      <th>Percent</th>\n",
       "    </tr>\n",
       "  </thead>\n",
       "  <tbody>\n",
       "  </tbody>\n",
       "</table>\n",
       "</div>"
      ],
      "text/plain": [
       "Empty DataFrame\n",
       "Columns: [Count, Percent]\n",
       "Index: []"
      ]
     },
     "execution_count": 33,
     "metadata": {},
     "output_type": "execute_result"
    }
   ],
   "source": [
    "missing_data_train_count = np.isnan(train_x1).sum()\n",
    "missing_data_train_percent = np.isnan(train_x1).sum() / len(train_x1) * 100\n",
    "\n",
    "missing_data_train_count = pd.Series(missing_data_train_count)  \n",
    "missing_data_train_percent = pd.Series(missing_data_train_percent)\n",
    "\n",
    "missing_data_train = pd.DataFrame({\n",
    "    'Count': missing_data_train_count,\n",
    "    'Percent': missing_data_train_percent\n",
    "})\n",
    "missing_data_train = missing_data_train[missing_data_train.Count > 0]\n",
    "missing_data_train.sort_values(by='Count', ascending=False, inplace=True)\n",
    "\n",
    "print(f\"There are {missing_data_train.shape[0]} features having missing data.\\n\")\n",
    "print(\"Top 10 missing value features:\")\n",
    "missing_data_train.head(15)"
   ]
  },
  {
   "cell_type": "code",
   "execution_count": 34,
   "id": "e28c2ac2",
   "metadata": {},
   "outputs": [
    {
     "name": "stdout",
     "output_type": "stream",
     "text": [
      "There are 0 features having missing data.\n",
      "\n",
      "Top 10 missing value features:\n"
     ]
    },
    {
     "data": {
      "text/html": [
       "<div>\n",
       "<style scoped>\n",
       "    .dataframe tbody tr th:only-of-type {\n",
       "        vertical-align: middle;\n",
       "    }\n",
       "\n",
       "    .dataframe tbody tr th {\n",
       "        vertical-align: top;\n",
       "    }\n",
       "\n",
       "    .dataframe thead th {\n",
       "        text-align: right;\n",
       "    }\n",
       "</style>\n",
       "<table border=\"1\" class=\"dataframe\">\n",
       "  <thead>\n",
       "    <tr style=\"text-align: right;\">\n",
       "      <th></th>\n",
       "      <th>Count</th>\n",
       "      <th>Percent</th>\n",
       "    </tr>\n",
       "  </thead>\n",
       "  <tbody>\n",
       "  </tbody>\n",
       "</table>\n",
       "</div>"
      ],
      "text/plain": [
       "Empty DataFrame\n",
       "Columns: [Count, Percent]\n",
       "Index: []"
      ]
     },
     "execution_count": 34,
     "metadata": {},
     "output_type": "execute_result"
    }
   ],
   "source": [
    "missing_data_test_count = np.isnan(test_x1).sum()\n",
    "missing_data_test_percent = np.isnan(test_x1).sum() / len(test_x1) * 100\n",
    "\n",
    "missing_data_test_count = pd.Series(missing_data_train_count)  \n",
    "missing_data_test_percent = pd.Series(missing_data_train_percent)\n",
    "\n",
    "missing_data_test = pd.DataFrame({\n",
    "    'Count': missing_data_test_count,\n",
    "    'Percent': missing_data_test_percent\n",
    "})\n",
    "missing_data_test = missing_data_test[missing_data_test.Count > 0]\n",
    "missing_data_test.sort_values(by='Count', ascending=False, inplace=True)\n",
    "\n",
    "print(f\"There are {missing_data_test.shape[0]} features having missing data.\\n\")\n",
    "print(\"Top 10 missing value features:\")\n",
    "missing_data_test.head(10)"
   ]
  },
  {
   "cell_type": "code",
   "execution_count": 35,
   "id": "b2a453f9",
   "metadata": {},
   "outputs": [
    {
     "name": "stdout",
     "output_type": "stream",
     "text": [
      "There are 0 features having missing data.\n",
      "\n",
      "Top 10 missing value features:\n"
     ]
    },
    {
     "data": {
      "text/html": [
       "<div>\n",
       "<style scoped>\n",
       "    .dataframe tbody tr th:only-of-type {\n",
       "        vertical-align: middle;\n",
       "    }\n",
       "\n",
       "    .dataframe tbody tr th {\n",
       "        vertical-align: top;\n",
       "    }\n",
       "\n",
       "    .dataframe thead th {\n",
       "        text-align: right;\n",
       "    }\n",
       "</style>\n",
       "<table border=\"1\" class=\"dataframe\">\n",
       "  <thead>\n",
       "    <tr style=\"text-align: right;\">\n",
       "      <th></th>\n",
       "      <th>Count</th>\n",
       "      <th>Percent</th>\n",
       "    </tr>\n",
       "  </thead>\n",
       "  <tbody>\n",
       "  </tbody>\n",
       "</table>\n",
       "</div>"
      ],
      "text/plain": [
       "Empty DataFrame\n",
       "Columns: [Count, Percent]\n",
       "Index: []"
      ]
     },
     "execution_count": 35,
     "metadata": {},
     "output_type": "execute_result"
    }
   ],
   "source": [
    "missing_data_train_count = np.isnan(train_x2).sum()\n",
    "missing_data_train_percent = np.isnan(train_x2).sum() / len(train_x2) * 100\n",
    "\n",
    "missing_data_train_count = pd.Series(missing_data_train_count)  \n",
    "missing_data_train_percent = pd.Series(missing_data_train_percent)\n",
    "\n",
    "missing_data_train = pd.DataFrame({\n",
    "    'Count': missing_data_train_count,\n",
    "    'Percent': missing_data_train_percent\n",
    "})\n",
    "missing_data_train = missing_data_train[missing_data_train.Count > 0]\n",
    "missing_data_train.sort_values(by='Count', ascending=False, inplace=True)\n",
    "\n",
    "print(f\"There are {missing_data_train.shape[0]} features having missing data.\\n\")\n",
    "print(\"Top 10 missing value features:\")\n",
    "missing_data_train.head(15)"
   ]
  },
  {
   "cell_type": "code",
   "execution_count": 36,
   "id": "a08f444b",
   "metadata": {},
   "outputs": [
    {
     "name": "stdout",
     "output_type": "stream",
     "text": [
      "There are 0 features having missing data.\n",
      "\n",
      "Top 10 missing value features:\n"
     ]
    },
    {
     "data": {
      "text/html": [
       "<div>\n",
       "<style scoped>\n",
       "    .dataframe tbody tr th:only-of-type {\n",
       "        vertical-align: middle;\n",
       "    }\n",
       "\n",
       "    .dataframe tbody tr th {\n",
       "        vertical-align: top;\n",
       "    }\n",
       "\n",
       "    .dataframe thead th {\n",
       "        text-align: right;\n",
       "    }\n",
       "</style>\n",
       "<table border=\"1\" class=\"dataframe\">\n",
       "  <thead>\n",
       "    <tr style=\"text-align: right;\">\n",
       "      <th></th>\n",
       "      <th>Count</th>\n",
       "      <th>Percent</th>\n",
       "    </tr>\n",
       "  </thead>\n",
       "  <tbody>\n",
       "  </tbody>\n",
       "</table>\n",
       "</div>"
      ],
      "text/plain": [
       "Empty DataFrame\n",
       "Columns: [Count, Percent]\n",
       "Index: []"
      ]
     },
     "execution_count": 36,
     "metadata": {},
     "output_type": "execute_result"
    }
   ],
   "source": [
    "missing_data_test_count = np.isnan(test_x2).sum()\n",
    "missing_data_test_percent = np.isnan(test_x2).sum() / len(test_x2) * 100\n",
    "\n",
    "missing_data_test_count = pd.Series(missing_data_train_count)  \n",
    "missing_data_test_percent = pd.Series(missing_data_train_percent)\n",
    "\n",
    "missing_data_test = pd.DataFrame({\n",
    "    'Count': missing_data_test_count,\n",
    "    'Percent': missing_data_test_percent\n",
    "})\n",
    "missing_data_test = missing_data_test[missing_data_test.Count > 0]\n",
    "missing_data_test.sort_values(by='Count', ascending=False, inplace=True)\n",
    "\n",
    "print(f\"There are {missing_data_test.shape[0]} features having missing data.\\n\")\n",
    "print(\"Top 10 missing value features:\")\n",
    "missing_data_test.head(10)"
   ]
  },
  {
   "cell_type": "markdown",
   "id": "994332aa",
   "metadata": {},
   "source": [
    "<a name='4'></a>\n",
    "# 4. Model"
   ]
  },
  {
   "cell_type": "markdown",
   "id": "848f0857",
   "metadata": {},
   "source": [
    "<a name='4'></a>\n",
    "## 4.1 Train"
   ]
  },
  {
   "cell_type": "code",
   "execution_count": 37,
   "id": "9b3b2a86",
   "metadata": {},
   "outputs": [
    {
     "name": "stdout",
     "output_type": "stream",
     "text": [
      "Coefficients:  [[38.94291168]]\n",
      "Intercept:  [125.93167125]\n",
      " \n",
      "Coefficients:  [[16.37125381]]\n",
      "Intercept:  [66.72057735]\n"
     ]
    }
   ],
   "source": [
    "from sklearn import linear_model\n",
    "\n",
    "#FOR ENGINESIZE VS CO2EMISSIONS\n",
    "regr1 = linear_model.LinearRegression()\n",
    "regr1.fit(train_x1, train_y1)\n",
    "# The coefficients\n",
    "print ('Coefficients: ', regr1.coef_)\n",
    "print ('Intercept: ', regr1.intercept_)\n",
    "print (' ')\n",
    "\n",
    "#FOR FUELCONSUMPTION_COMB VS CO2EMISSIONS\n",
    "regr2 = linear_model.LinearRegression()\n",
    "regr2.fit(train_x2, train_y2)\n",
    "# The coefficients\n",
    "print ('Coefficients: ', regr2.coef_)\n",
    "print ('Intercept: ', regr2.intercept_)"
   ]
  },
  {
   "cell_type": "code",
   "execution_count": 38,
   "id": "39341fa5",
   "metadata": {},
   "outputs": [
    {
     "data": {
      "text/plain": [
       "Text(0, 0.5, 'Emission')"
      ]
     },
     "execution_count": 38,
     "metadata": {},
     "output_type": "execute_result"
    },
    {
     "data": {
      "image/png": "[encoded data removed]",
      "text/plain": [
       "<Figure size 432x288 with 1 Axes>"
      ]
     },
     "metadata": {
      "needs_background": "light"
     },
     "output_type": "display_data"
    }
   ],
   "source": [
    "plt.scatter(train.ENGINESIZE, train.CO2EMISSIONS,  color='blue')\n",
    "plt.plot(train_x1, regr1.coef_[0][0]*train_x1 + regr1.intercept_[0], '-r')\n",
    "plt.xlabel(\"Engine size\")\n",
    "plt.ylabel(\"Emission\")"
   ]
  },
  {
   "cell_type": "code",
   "execution_count": 39,
   "id": "3e08f147",
   "metadata": {},
   "outputs": [
    {
     "data": {
      "text/plain": [
       "Text(0, 0.5, 'Emission')"
      ]
     },
     "execution_count": 39,
     "metadata": {},
     "output_type": "execute_result"
    },
    {
     "data": {
      "image/png": "[encoded data removed]",
      "text/plain": [
       "<Figure size 432x288 with 1 Axes>"
      ]
     },
     "metadata": {
      "needs_background": "light"
     },
     "output_type": "display_data"
    }
   ],
   "source": [
    "plt.scatter(train.FUELCONSUMPTION_COMB, train.CO2EMISSIONS,  color='blue')\n",
    "plt.plot(train_x2, regr2.coef_[0][0]*train_x2 + regr2.intercept_[0], '-r')\n",
    "plt.xlabel(\"Fuel Consumption\")\n",
    "plt.ylabel(\"Emission\")"
   ]
  },
  {
   "cell_type": "markdown",
   "id": "b1424e19",
   "metadata": {},
   "source": [
    "<a name='4'></a>\n",
    "## 4.2 Test"
   ]
  },
  {
   "cell_type": "code",
   "execution_count": 40,
   "id": "b24f1450",
   "metadata": {},
   "outputs": [],
   "source": [
    "test_y1_ = regr1.predict(test_x1)\n",
    "test_y2_ = regr2.predict(test_x2)"
   ]
  },
  {
   "cell_type": "markdown",
   "id": "05c4e421",
   "metadata": {},
   "source": [
    "<a name='5'></a>\n",
    "# 5. Model Evaluation"
   ]
  },
  {
   "cell_type": "code",
   "execution_count": 41,
   "id": "5dc6117f",
   "metadata": {},
   "outputs": [
    {
     "name": "stdout",
     "output_type": "stream",
     "text": [
      "Mean absolute error: 25.43\n",
      "Residual sum of squares (MSE): 1206.49\n",
      "R2-score: 0.74\n"
     ]
    },
    {
     "data": {
      "image/png": "[encoded data removed]",
      "text/plain": [
       "<Figure size 432x288 with 1 Axes>"
      ]
     },
     "metadata": {
      "needs_background": "light"
     },
     "output_type": "display_data"
    }
   ],
   "source": [
    "from sklearn.metrics import r2_score\n",
    "\n",
    "plt.scatter(train_x1, train_y1,  color='blue')\n",
    "plt.scatter(test_x1, test_y1,  color='grey')\n",
    "plt.scatter(test_x1, test_y1_,  color='orange')\n",
    "plt.plot(test_x1, regr1.coef_[0][0]*test_x1 + regr1.intercept_[0], '-r')\n",
    "plt.xlabel(\"Engine Size\")\n",
    "plt.ylabel(\"Emission\")\n",
    "\n",
    "print(\"Mean absolute error: %.2f\" % np.mean(np.absolute(test_y1_ - test_y1)))\n",
    "print(\"Residual sum of squares (MSE): %.2f\" % np.mean((test_y1_ - test_y1) ** 2))\n",
    "print(\"R2-score: %.2f\" % r2_score(test_y1 , test_y1_) )"
   ]
  },
  {
   "cell_type": "code",
   "execution_count": 42,
   "id": "621650ff",
   "metadata": {},
   "outputs": [
    {
     "name": "stdout",
     "output_type": "stream",
     "text": [
      "Mean absolute error: 23.33\n",
      "Residual sum of squares (MSE): 1042.37\n",
      "R2-score: 0.78\n"
     ]
    },
    {
     "data": {
      "image/png": "[encoded data removed]",
      "text/plain": [
       "<Figure size 432x288 with 1 Axes>"
      ]
     },
     "metadata": {
      "needs_background": "light"
     },
     "output_type": "display_data"
    }
   ],
   "source": [
    "from sklearn.metrics import r2_score\n",
    "\n",
    "plt.scatter(train_x2, train_y2,  color='blue')\n",
    "plt.scatter(test_x2, test_y2,  color='grey')\n",
    "plt.scatter(test_x2, test_y2_,  color='orange')\n",
    "plt.plot(test_x2, regr2.coef_[0][0]*test_x2 + regr2.intercept_[0], '-r')\n",
    "plt.xlabel(\"Fuel Consumption\")\n",
    "plt.ylabel(\"Emission\")\n",
    "\n",
    "print(\"Mean absolute error: %.2f\" % np.mean(np.absolute(test_y2_ - test_y2)))\n",
    "print(\"Residual sum of squares (MSE): %.2f\" % np.mean((test_y2_ - test_y2) ** 2))\n",
    "print(\"R2-score: %.2f\" % r2_score(test_y2 , test_y2_) )"
   ]
  },
  {
   "cell_type": "markdown",
   "id": "92914fee",
   "metadata": {},
   "source": [
    "<a name='6'></a>\n",
    "# 6. Conclusion"
   ]
  },
  {
   "cell_type": "markdown",
   "id": "83942743",
   "metadata": {},
   "source": [
    "The R_Squared and the mean absolute error scores are 0.74 and 25.43 respectively for the engine size and emission case. The R_Squared and the mean absolute error scores are 0.78 and 23.33 respectively for the fuel consumption and emission case. From both cases, we can conclude that both variables are good predictors for emission variable."
   ]
  }
 ],
 "metadata": {
  "kernelspec": {
   "display_name": "Python 3 (ipykernel)",
   "language": "python",
   "name": "python3"
  },
  "language_info": {
   "codemirror_mode": {
    "name": "ipython",
    "version": 3
   },
   "file_extension": ".py",
   "mimetype": "text/x-python",
   "name": "python",
   "nbconvert_exporter": "python",
   "pygments_lexer": "ipython3",
   "version": "3.9.12"
  }
 },
 "nbformat": 4,
 "nbformat_minor": 5
}
